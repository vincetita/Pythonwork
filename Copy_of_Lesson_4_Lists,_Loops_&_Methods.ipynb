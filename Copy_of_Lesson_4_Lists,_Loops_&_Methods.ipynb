{
  "nbformat": 4,
  "nbformat_minor": 0,
  "metadata": {
    "colab": {
      "name": "Copy of Lesson 4 - Lists, Loops & Methods.ipynb",
      "provenance": [],
      "collapsed_sections": [],
      "include_colab_link": true
    },
    "kernelspec": {
      "name": "python3",
      "display_name": "Python 3"
    }
  },
  "cells": [
    {
      "cell_type": "markdown",
      "metadata": {
        "id": "view-in-github",
        "colab_type": "text"
      },
      "source": [
        "<a href=\"https://colab.research.google.com/github/vincetita/Pythonwork/blob/master/Copy_of_Lesson_4_Lists%2C_Loops_%26_Methods.ipynb\" target=\"_parent\"><img src=\"https://colab.research.google.com/assets/colab-badge.svg\" alt=\"Open In Colab\"/></a>"
      ]
    },
    {
      "cell_type": "markdown",
      "metadata": {
        "id": "uEceBQ458Xlq",
        "colab_type": "text"
      },
      "source": [
        "#**Hello.**"
      ]
    },
    {
      "cell_type": "markdown",
      "metadata": {
        "id": "nQGs-c2Do0C-",
        "colab_type": "text"
      },
      "source": [
        "# **Course Overview**\n",
        "\n",
        "### Programming basics\n",
        "[X] Algorithms           \n",
        "[X] Running your first program     \n",
        "[X] Interactive program  \n",
        "\n",
        "### Data types\n",
        "[X] Variables    \n",
        "[X] Types (Boolean, Int, Float, Strings)\n",
        "\n",
        "### Data transformation\n",
        "[X] Arithmetic (+,  -, *, /, ** , %, )    \n",
        "[X] Type conversion       \n",
        "[X] Conditionals  (if/elif/else)    \n",
        "[ ] Methods\n",
        "\n",
        "### Handling collections\n",
        "[ ] Collection types   \n",
        "[ ] Loops    \n",
        "[ ] Lists\n",
        "\n",
        "### Functions\n",
        "[_] ...\n",
        "\n",
        "### Files\n",
        "[_] ...\n",
        "\n",
        "### Dictionaries\n",
        "[_] ...\n"
      ]
    },
    {
      "cell_type": "markdown",
      "metadata": {
        "id": "i5r1R4_8r_4Q",
        "colab_type": "text"
      },
      "source": [
        "# **Outlook: Preject**\n",
        "Next week we will work on mini project :)\n",
        "\n",
        "\n",
        "![alt text](https://code.org/images/fill-480x360/tutorials/hoc2019/dance-2019.jpg)"
      ]
    },
    {
      "cell_type": "markdown",
      "metadata": {
        "id": "AQatWfzdNT73",
        "colab_type": "text"
      },
      "source": [
        "#  **Your Feedback from last class**\n",
        "\n",
        "9 out of 34 people submitted feedback.\n",
        "\n",
        "- What did you enjoy specifically / What was the best part of the lesson:\n",
        "  - Practicin', Practicin' & Practicin'!\n",
        "  - Writing code by myself, trying to solve errors.\n",
        "  - support and help from other teachers\n",
        "  - class structure\n",
        "\n",
        "- What could have helped you learn better / What would you change?\n",
        "  - too noisy - not only from other event at ReDI but groups of students within the course\n",
        "  - too many participants compared to the numbers of supervisors\n",
        "  - some people hadn't registered, but joined the classes and took time of the supervisors to ask about their problems\n"
      ]
    },
    {
      "cell_type": "markdown",
      "metadata": {
        "id": "o8mKDIlPXWJM",
        "colab_type": "text"
      },
      "source": [
        "# **Homework Assessment Mentimeter** \n",
        "\n",
        "Go to `www.menti.com` and enter the code **22 46 39**\n",
        "\n"
      ]
    },
    {
      "cell_type": "markdown",
      "metadata": {
        "id": "9xXug8HHqFuL",
        "colab_type": "text"
      },
      "source": [
        "# **Recap** - What we have learned so far\n",
        "\n",
        "### Variables\n",
        "\n",
        "A variable is a container for storing data values.\n",
        "<img src=\"https://i1.wp.com/theailearner.com/wp-content/uploads/2018/09/Untitled-Diagram.png?resize=300%2C134&ssl=1\" width=\"550\"/>\n",
        "\n",
        "\n",
        "### Data Types\n",
        "\n",
        "* We met 4 ***data types*** so far:\n",
        "  * **Int** : `1, 2, 3, 4`\n",
        "  * **float** : `3.124, 100.0`\n",
        "  * **string** : `\"How is everyone?\"`\n",
        "  * **bool** : `True, False`"
      ]
    },
    {
      "cell_type": "code",
      "metadata": {
        "id": "vosSamFqt78n",
        "colab_type": "code",
        "outputId": "ef0e0182-e17a-410e-88ce-4c8ebc6610ad",
        "colab": {
          "base_uri": "https://localhost:8080/",
          "height": 86
        }
      },
      "source": [
        "int_value = 1337\n",
        "float_value = 99.99\n",
        "string_value = \"I am a s'tring!\"\n",
        "bool_value = True\n",
        "\n",
        "print(int_value, '          -  type:', type(int_value))\n",
        "print(float_value, '         -  type:', type(float_value))\n",
        "print(string_value, '-  type:', type(string_value))\n",
        "print(bool_value, '          -  type:', type(bool_value))"
      ],
      "execution_count": 0,
      "outputs": [
        {
          "output_type": "stream",
          "text": [
            "1337           -  type: <class 'int'>\n",
            "99.99          -  type: <class 'float'>\n",
            "I am a s'tring! -  type: <class 'str'>\n",
            "True           -  type: <class 'bool'>\n"
          ],
          "name": "stdout"
        }
      ]
    },
    {
      "cell_type": "markdown",
      "metadata": {
        "id": "J-cDE4o1qael",
        "colab_type": "text"
      },
      "source": [
        "* we met simple ***functions***:\n",
        "  * **print()** - writes content to the output\n",
        "  * **input()** - can make the program obtain info while running\n",
        "  * **type()**  - see the data type of a variable\n",
        "  * **bool, str, int, float** can transform data types"
      ]
    },
    {
      "cell_type": "code",
      "metadata": {
        "id": "c94WOH5Ut_QV",
        "colab_type": "code",
        "outputId": "5bb9cb8d-f6e9-4b40-dca9-c8330717e776",
        "colab": {
          "base_uri": "https://localhost:8080/",
          "height": 86
        }
      },
      "source": [
        "name = input(\"State your name:   \")\n",
        "print(\"Hello\", name, \", nice to meet you\")\n",
        "\n",
        "age = input(\"How old are you?   \")\n",
        "age_int = int(age)\n",
        "year = 2020 - age_int\n",
        "print(\"You were probably born in the year\", year)"
      ],
      "execution_count": 0,
      "outputs": [
        {
          "output_type": "stream",
          "text": [
            "State your name:   Natalie\n",
            "Hello Natalie , nice to meet you\n",
            "How old are you?   29\n",
            "You were probably born in the year 1991\n"
          ],
          "name": "stdout"
        }
      ]
    },
    {
      "cell_type": "markdown",
      "metadata": {
        "id": "k6cPXTIxCo-Q",
        "colab_type": "text"
      },
      "source": [
        "* We learned about **Arithmetic Operators**\n",
        "\n",
        "![alt text](https://imgur.com/VFzCQCY.png)"
      ]
    },
    {
      "cell_type": "code",
      "metadata": {
        "id": "1QWdbWWKC2FH",
        "colab_type": "code",
        "outputId": "e7072eb1-469c-4739-e1fb-3639f0a3142e",
        "colab": {
          "base_uri": "https://localhost:8080/",
          "height": 69
        }
      },
      "source": [
        "a = 10\n",
        "b = 5\n",
        "\n",
        "c = a + b\n",
        "print('a + b = ', c)\n",
        "\n",
        "d = a * 2 / b\n",
        "print('a * 2 / b = ', d)\n",
        "\n",
        "e = 'hello! ' * 3\n",
        "print(\"'hello!' * 3 = \", e)"
      ],
      "execution_count": 0,
      "outputs": [
        {
          "output_type": "stream",
          "text": [
            "a + b =  15\n",
            "a * 2 / b =  4.0\n",
            "'hello!' * 3 =  hello! hello! hello! \n"
          ],
          "name": "stdout"
        }
      ]
    },
    {
      "cell_type": "markdown",
      "metadata": {
        "id": "xWQlT1AjFxjR",
        "colab_type": "text"
      },
      "source": [
        "* we met comparison operators\n",
        "\n",
        "![alt text](https://www.engineeringbigdata.com/wp-content/uploads/python-comparison-operators.jpg)"
      ]
    },
    {
      "cell_type": "code",
      "metadata": {
        "id": "dB0tLOEJGVBJ",
        "colab_type": "code",
        "outputId": "3ca3ef9e-da3b-4c4a-9e36-f5eacc96daf0",
        "colab": {
          "base_uri": "https://localhost:8080/",
          "height": 69
        }
      },
      "source": [
        "a = 7\n",
        "b = 5\n",
        "\n",
        "print('a == b  =', a==b)\n",
        "print('a >= b  =', a>=b)\n",
        "print('a != b  =', a!=b)"
      ],
      "execution_count": 0,
      "outputs": [
        {
          "output_type": "stream",
          "text": [
            "a == b  = False\n",
            "a >= b  = True\n",
            "a != b  = True\n"
          ],
          "name": "stdout"
        }
      ]
    },
    {
      "cell_type": "markdown",
      "metadata": {
        "id": "aCxS6h1Vt_-d",
        "colab_type": "text"
      },
      "source": [
        "* we met **if blocks** that can be used to describe that a block of code is executed\n",
        "  * **if**\n",
        "    - is at the start of each if block.\n",
        "    - has a condition and is only executed if the condition is met\n",
        "    - the remaining elif/else clauses of the block are skipped\n",
        "  * **elif**\n",
        "    - is optional\n",
        "    - we can use as many as we want\n",
        "    - has a condition and is only executed if the condition is met\n",
        "    - the remaining elif/else clauses of the block are skipped\n",
        "  * **else**\n",
        "    - is optional\n",
        "    - only used once at the end of the block\n",
        "    - no condition\n",
        "    - is executed if none of the other conditions is met"
      ]
    },
    {
      "cell_type": "code",
      "metadata": {
        "id": "ksYC_vpg1N-E",
        "colab_type": "code",
        "colab": {}
      },
      "source": [
        "name = input(\"State your name:   \")\n",
        "print(\"Hello\", name, \", nice to meet you\")\n",
        "\n",
        "age = input(\"How old are you?   \")\n",
        "age_int = int(age)\n",
        "year = 2020 - age_int\n",
        "print(\"You were probably born in the year\", year)"
      ],
      "execution_count": 0,
      "outputs": []
    },
    {
      "cell_type": "code",
      "metadata": {
        "id": "XT3yTIh6ubjI",
        "colab_type": "code",
        "outputId": "b68dfc29-6c29-4fb1-eee6-0efe514e34ec",
        "colab": {
          "base_uri": "https://localhost:8080/",
          "height": 52
        }
      },
      "source": [
        "birthday_did_happen = input(\"Did you already have birthday this year? yes/no  \")\n",
        "if birthday_did_happen == \"yes\" or birthday_did_happen == \"y\":\n",
        "  print(\"Aha! you were definitly born in the year\", year)\n",
        "elif birthday_did_happen == \"no\" or birthday_did_happen == \"n\":\n",
        "  year = year - 1\n",
        "  print(\"Aha! So you were born in the year\", year)\n",
        "else:\n",
        "  print(\"Please answer with yes or no!\")"
      ],
      "execution_count": 0,
      "outputs": [
        {
          "output_type": "stream",
          "text": [
            "Did you already have birthday this year? yes/no  don't know\n",
            "Please answer with yes or no!\n"
          ],
          "name": "stdout"
        }
      ]
    },
    {
      "cell_type": "code",
      "metadata": {
        "id": "ExxFd7Ax2w7J",
        "colab_type": "code",
        "outputId": "426ae45d-784d-4c52-91eb-20f7ee56019a",
        "colab": {
          "base_uri": "https://localhost:8080/",
          "height": 34
        }
      },
      "source": [
        "type(\"True\")"
      ],
      "execution_count": 0,
      "outputs": [
        {
          "output_type": "execute_result",
          "data": {
            "text/plain": [
              "str"
            ]
          },
          "metadata": {
            "tags": []
          },
          "execution_count": 37
        }
      ]
    },
    {
      "cell_type": "code",
      "metadata": {
        "id": "09s_ZWln3lIF",
        "colab_type": "code",
        "colab": {}
      },
      "source": [
        "plants = 8"
      ],
      "execution_count": 0,
      "outputs": []
    },
    {
      "cell_type": "code",
      "metadata": {
        "id": "GaKtZEHX3pBw",
        "colab_type": "code",
        "outputId": "0298138c-62c2-4082-bf9e-3a3a4c906026",
        "colab": {
          "base_uri": "https://localhost:8080/",
          "height": 34
        }
      },
      "source": [
        "plants\n"
      ],
      "execution_count": 0,
      "outputs": [
        {
          "output_type": "execute_result",
          "data": {
            "text/plain": [
              "8"
            ]
          },
          "metadata": {
            "tags": []
          },
          "execution_count": 40
        }
      ]
    },
    {
      "cell_type": "markdown",
      "metadata": {
        "id": "IlCEx75HHJlv",
        "colab_type": "text"
      },
      "source": [
        "# **Quiz Time :)** \n",
        "\n",
        "Go to `www.menti.com` and enter the code **22 98 62**\n",
        "\n"
      ]
    },
    {
      "cell_type": "markdown",
      "metadata": {
        "id": "jnO9Ru1w7Uup",
        "colab_type": "text"
      },
      "source": [
        "# **Lists**\n",
        "\n",
        "Lists are an entirely new ***data type***!\n",
        "\n",
        "Lists are like lists in real life, they are a **collection of items**\n",
        "\n",
        "List can contain any data type, also at the same time.\n",
        "\n",
        "For example a shopping list:\n",
        "  - bread\n",
        "  - bananas\n",
        "  - cucumber"
      ]
    },
    {
      "cell_type": "code",
      "metadata": {
        "id": "twDmRt_y7iFa",
        "colab_type": "code",
        "outputId": "6b95807e-d2a0-4de9-8299-7681836e9beb",
        "colab": {
          "base_uri": "https://localhost:8080/",
          "height": 52
        }
      },
      "source": [
        "# In python this looks like this:\n",
        "shopping_list = ['bread', 'bananas', 'cucumber', 1, True, 6, 'string']\n",
        "print(shopping_list)\n",
        "print(type(shopping_list))"
      ],
      "execution_count": 0,
      "outputs": [
        {
          "output_type": "stream",
          "text": [
            "['bread', 'bananas', 'cucumber', 1, True, 6, 'string']\n",
            "<class 'list'>\n"
          ],
          "name": "stdout"
        }
      ]
    },
    {
      "cell_type": "markdown",
      "metadata": {
        "id": "nOziqQJaGm4F",
        "colab_type": "text"
      },
      "source": [
        "# Let's try this out!\n",
        "\n",
        "1. **Write a list that contains the numbers from 1 to 5**"
      ]
    },
    {
      "cell_type": "code",
      "metadata": {
        "id": "MRRx56Q4HOJ5",
        "colab_type": "code",
        "colab": {}
      },
      "source": [
        "list_of_integers = [1,2,3,4,5]"
      ],
      "execution_count": 0,
      "outputs": []
    },
    {
      "cell_type": "markdown",
      "metadata": {
        "id": "5POdvgguH9Wk",
        "colab_type": "text"
      },
      "source": [
        "2. **Write a list with your five favourite animals. Call the list animals and print it**"
      ]
    },
    {
      "cell_type": "code",
      "metadata": {
        "id": "qXyPdW9oI7yN",
        "colab_type": "code",
        "colab": {}
      },
      "source": [
        ""
      ],
      "execution_count": 0,
      "outputs": []
    },
    {
      "cell_type": "markdown",
      "metadata": {
        "id": "QgueWlgcNGOE",
        "colab_type": "text"
      },
      "source": [
        "## Properties of Lists\n",
        "Lists have:\n",
        "- **values**\n",
        "- **indices**  - always start at 0\n",
        "- **a length** - number of elements in a list\n",
        "\n",
        "\n",
        "![alt text](https://developers.google.com/edu/python/images/list1.png)\n",
        "\n"
      ]
    },
    {
      "cell_type": "markdown",
      "metadata": {
        "id": "DSZYx-_0-pEc",
        "colab_type": "text"
      },
      "source": [
        "### Accessing list elements"
      ]
    },
    {
      "cell_type": "code",
      "metadata": {
        "id": "sWQLIGioOpsn",
        "colab_type": "code",
        "outputId": "f34cc521-03c1-48f5-e8ef-25b8602b50fe",
        "colab": {
          "base_uri": "https://localhost:8080/",
          "height": 52
        }
      },
      "source": [
        "colors = ['red', 'blue', 'green']\n",
        "print(colors)\n",
        "print(len(colors))"
      ],
      "execution_count": 0,
      "outputs": [
        {
          "output_type": "stream",
          "text": [
            "['red', 'blue', 'green']\n",
            "3\n"
          ],
          "name": "stdout"
        }
      ]
    },
    {
      "cell_type": "code",
      "metadata": {
        "id": "PVsE-h44NhPr",
        "colab_type": "code",
        "outputId": "942141ab-de72-4e6e-8a80-91033cde40db",
        "colab": {
          "base_uri": "https://localhost:8080/",
          "height": 52
        }
      },
      "source": [
        "# Indexing a list\n",
        "print(colors[0])\n",
        "print(colors[2])"
      ],
      "execution_count": 0,
      "outputs": [
        {
          "output_type": "stream",
          "text": [
            "red\n",
            "green\n"
          ],
          "name": "stdout"
        }
      ]
    },
    {
      "cell_type": "code",
      "metadata": {
        "id": "307onDhqOv3N",
        "colab_type": "code",
        "outputId": "94b48c24-652d-4a29-f1f4-586e0ccbd556",
        "colab": {
          "base_uri": "https://localhost:8080/",
          "height": 167
        }
      },
      "source": [
        "# ERROR if index is too high\n",
        "print(colors[3])"
      ],
      "execution_count": 0,
      "outputs": [
        {
          "output_type": "error",
          "ename": "IndexError",
          "evalue": "ignored",
          "traceback": [
            "\u001b[0;31m---------------------------------------------------------------------------\u001b[0m",
            "\u001b[0;31mIndexError\u001b[0m                                Traceback (most recent call last)",
            "\u001b[0;32m<ipython-input-63-08c460e34ca7>\u001b[0m in \u001b[0;36m<module>\u001b[0;34m()\u001b[0m\n\u001b[0;32m----> 1\u001b[0;31m \u001b[0mprint\u001b[0m\u001b[0;34m(\u001b[0m\u001b[0mcolors\u001b[0m\u001b[0;34m[\u001b[0m\u001b[0;36m3\u001b[0m\u001b[0;34m]\u001b[0m\u001b[0;34m)\u001b[0m\u001b[0;34m\u001b[0m\u001b[0;34m\u001b[0m\u001b[0m\n\u001b[0m",
            "\u001b[0;31mIndexError\u001b[0m: list index out of range"
          ]
        }
      ]
    },
    {
      "cell_type": "code",
      "metadata": {
        "id": "SBXfrOKLEbDk",
        "colab_type": "code",
        "colab": {}
      },
      "source": [
        "colors = ['red', 'blue', 'green']\n",
        "print(colors)\n",
        "print(len(colors))"
      ],
      "execution_count": 0,
      "outputs": []
    },
    {
      "cell_type": "code",
      "metadata": {
        "id": "hRjmyR4w_xpJ",
        "colab_type": "code",
        "outputId": "39a3648e-13a7-4f1d-89b8-67ca5de60415",
        "colab": {
          "base_uri": "https://localhost:8080/",
          "height": 34
        }
      },
      "source": [
        "# Printing the last element in a list\n",
        "print(colors[-1])"
      ],
      "execution_count": 0,
      "outputs": [
        {
          "output_type": "stream",
          "text": [
            "green\n"
          ],
          "name": "stdout"
        }
      ]
    },
    {
      "cell_type": "code",
      "metadata": {
        "id": "R6KOTEQtst8W",
        "colab_type": "code",
        "colab": {}
      },
      "source": [
        "# Slicing \n",
        "print(colors[:2])\n",
        "print(colors[1:2])\n",
        "print(colors[-2:-1])"
      ],
      "execution_count": 0,
      "outputs": []
    },
    {
      "cell_type": "code",
      "metadata": {
        "id": "Wxje496dEnB0",
        "colab_type": "code",
        "outputId": "05e101b4-f685-4770-b2cf-0e1df2569974",
        "colab": {
          "base_uri": "https://localhost:8080/",
          "height": 34
        }
      },
      "source": [
        "print(colors[-2:-1])"
      ],
      "execution_count": 0,
      "outputs": [
        {
          "output_type": "stream",
          "text": [
            "['blue']\n"
          ],
          "name": "stdout"
        }
      ]
    },
    {
      "cell_type": "code",
      "metadata": {
        "id": "XzpTP362E9wF",
        "colab_type": "code",
        "outputId": "b58fa44a-f715-4e99-9008-deb270fc047b",
        "colab": {
          "base_uri": "https://localhost:8080/",
          "height": 34
        }
      },
      "source": [
        "colors"
      ],
      "execution_count": 0,
      "outputs": [
        {
          "output_type": "execute_result",
          "data": {
            "text/plain": [
              "['red', 'blue', 'green']"
            ]
          },
          "metadata": {
            "tags": []
          },
          "execution_count": 68
        }
      ]
    },
    {
      "cell_type": "code",
      "metadata": {
        "id": "koHqA3rRL0jD",
        "colab_type": "code",
        "outputId": "111114c3-9abf-4720-a1db-eb7bcbe4f581",
        "colab": {
          "base_uri": "https://localhost:8080/",
          "height": 34
        }
      },
      "source": [
        "# Changing a list element\n",
        "colors[1] = 'yellow'\n",
        "print(colors)"
      ],
      "execution_count": 0,
      "outputs": [
        {
          "output_type": "stream",
          "text": [
            "['red', 'yellow', 'green']\n"
          ],
          "name": "stdout"
        }
      ]
    },
    {
      "cell_type": "markdown",
      "metadata": {
        "id": "qUDkbagTwyHz",
        "colab_type": "text"
      },
      "source": [
        "# Time to practice"
      ]
    },
    {
      "cell_type": "markdown",
      "metadata": {
        "id": "xDbRmbuX-6h1",
        "colab_type": "text"
      },
      "source": [
        "**Exercise**: Print the **third element** in your list of favourite animals"
      ]
    },
    {
      "cell_type": "code",
      "metadata": {
        "id": "PehvHwQF-erd",
        "colab_type": "code",
        "colab": {}
      },
      "source": [
        ""
      ],
      "execution_count": 0,
      "outputs": []
    },
    {
      "cell_type": "markdown",
      "metadata": {
        "id": "x6oPqANUSQPe",
        "colab_type": "text"
      },
      "source": [
        "**Exercise**: Print 'My favourite animal is the ... ' with the **first element** in your list of favourite animals."
      ]
    },
    {
      "cell_type": "code",
      "metadata": {
        "id": "RFbkPB96wjef",
        "colab_type": "code",
        "colab": {}
      },
      "source": [
        ""
      ],
      "execution_count": 0,
      "outputs": []
    },
    {
      "cell_type": "markdown",
      "metadata": {
        "id": "6Qt4GdJx_LZz",
        "colab_type": "text"
      },
      "source": [
        "**Exercise**: Print the **last element** in your list of favourite animals"
      ]
    },
    {
      "cell_type": "code",
      "metadata": {
        "id": "1aAOS-iCFmNZ",
        "colab_type": "code",
        "colab": {}
      },
      "source": [
        ""
      ],
      "execution_count": 0,
      "outputs": []
    },
    {
      "cell_type": "markdown",
      "metadata": {
        "id": "P5oZi-vVFj71",
        "colab_type": "text"
      },
      "source": [
        "**Exercise**: Print the **last two element** in your list of favourite animals"
      ]
    },
    {
      "cell_type": "code",
      "metadata": {
        "id": "S7P7Q7rBBboH",
        "colab_type": "code",
        "colab": {}
      },
      "source": [
        ""
      ],
      "execution_count": 0,
      "outputs": []
    },
    {
      "cell_type": "markdown",
      "metadata": {
        "id": "lsEj1uj3QKT0",
        "colab_type": "text"
      },
      "source": [
        "**Exercise**: Change the **last element** in your list of favourite animals to 'cats'"
      ]
    },
    {
      "cell_type": "code",
      "metadata": {
        "id": "mHudFBTVNvZq",
        "colab_type": "code",
        "colab": {}
      },
      "source": [
        ""
      ],
      "execution_count": 0,
      "outputs": []
    },
    {
      "cell_type": "markdown",
      "metadata": {
        "id": "6r6kRrrZvSmH",
        "colab_type": "text"
      },
      "source": [
        "# List Methods\n",
        "\n",
        "A method is a function that is available for a specific data type.\n",
        "\n",
        "*   Methods are called by adding a dot, the method name and round brackets to the object, e.g. *animals.append('cat')*\n",
        "*   Methods can take no, one, or several parameters (like functions)\n",
        "* Use dir or help, e.g. *dir(animals)* to see all methods for a variable or type\n",
        "\n"
      ]
    },
    {
      "cell_type": "code",
      "metadata": {
        "id": "wtmNnJrqN4bS",
        "colab_type": "code",
        "colab": {}
      },
      "source": [
        "# Append an element to a list\n",
        "print(colors)\n",
        "colors.append('green')\n",
        "print(colors)"
      ],
      "execution_count": 0,
      "outputs": []
    },
    {
      "cell_type": "code",
      "metadata": {
        "id": "6dLAC0onSD3u",
        "colab_type": "code",
        "colab": {}
      },
      "source": [
        "# Append an entire list to the original one\n",
        "another_list_of_colors = ['pink', 'yellow', 'green']\n",
        "colors.extend(another_list_of_colors)\n",
        "print(colors)"
      ],
      "execution_count": 0,
      "outputs": []
    },
    {
      "cell_type": "code",
      "metadata": {
        "id": "Mitw7YCiRtib",
        "colab_type": "code",
        "colab": {}
      },
      "source": [
        "# Search for an element in the list and return its index\n",
        "#If the same element is present more than once, the method returns the index of the first occurrence of the element.\n",
        "print(colors)\n",
        "print(colors.index('green'))\n",
        "print(colors.index('yellow'))"
      ],
      "execution_count": 0,
      "outputs": []
    },
    {
      "cell_type": "code",
      "metadata": {
        "id": "IvT5KW01dQoo",
        "colab_type": "code",
        "colab": {}
      },
      "source": [
        "# ERROR if element is not in list\n",
        "print(colors.index('magenta'))"
      ],
      "execution_count": 0,
      "outputs": []
    },
    {
      "cell_type": "code",
      "metadata": {
        "id": "cMZV8GEBQsvK",
        "colab_type": "code",
        "outputId": "82ed9663-1fa2-411c-b17c-48821f4d5587",
        "colab": {
          "base_uri": "https://localhost:8080/",
          "height": 52
        }
      },
      "source": [
        "# Count how often an element appears in a list\n",
        "red_count = colors.count('red')\n",
        "green_count = colors.count('green')\n",
        "\n",
        "print('Number of red: ', red_count)\n",
        "print('Number of green: ', green_count)"
      ],
      "execution_count": 0,
      "outputs": [
        {
          "output_type": "stream",
          "text": [
            "Number of red:  1\n",
            "Number of green:  2\n"
          ],
          "name": "stdout"
        }
      ]
    },
    {
      "cell_type": "code",
      "metadata": {
        "id": "IF51vQnrRc1S",
        "colab_type": "code",
        "outputId": "02f53381-86d4-4ea2-d427-b181966aebd1",
        "colab": {
          "base_uri": "https://localhost:8080/",
          "height": 34
        }
      },
      "source": [
        "# Sort the list elements\n",
        "colors.sort()\n",
        "print(colors)"
      ],
      "execution_count": 0,
      "outputs": [
        {
          "output_type": "stream",
          "text": [
            "['blue', 'green', 'green', 'red']\n"
          ],
          "name": "stdout"
        }
      ]
    },
    {
      "cell_type": "code",
      "metadata": {
        "id": "CT9G383PQe-8",
        "colab_type": "code",
        "colab": {}
      },
      "source": [
        "# Getting all list methods\n",
        "dir(colors)"
      ],
      "execution_count": 0,
      "outputs": []
    },
    {
      "cell_type": "markdown",
      "metadata": {
        "id": "L-HyjkhLmNhT",
        "colab_type": "text"
      },
      "source": [
        "# Time to practice\n",
        "\n",
        "<img src=\"https://www.australiangeographic.com.au/wp-content/uploads/2018/11/wombat-australia.jpg\" width=\"300\"/>\n",
        "\n",
        "**Exercise**: After seeing this super cute little wombat, you fall in love with these animals.\n",
        "\n",
        "Add *wombats* to your list of favourite animals\n"
      ]
    },
    {
      "cell_type": "code",
      "metadata": {
        "id": "o4vrQTI_jeoq",
        "colab_type": "code",
        "colab": {}
      },
      "source": [
        ""
      ],
      "execution_count": 0,
      "outputs": []
    },
    {
      "cell_type": "markdown",
      "metadata": {
        "id": "XY3JcsHFhdlt",
        "colab_type": "text"
      },
      "source": [
        "**Exercise:**\n",
        "  - At which index are *wombats* listed?"
      ]
    },
    {
      "cell_type": "code",
      "metadata": {
        "id": "BBv1xQWsjrKi",
        "colab_type": "code",
        "colab": {}
      },
      "source": [
        ""
      ],
      "execution_count": 0,
      "outputs": []
    },
    {
      "cell_type": "markdown",
      "metadata": {
        "id": "CNqJK4imjBzw",
        "colab_type": "text"
      },
      "source": [
        "**Exercise**:\n",
        "  - print the length (number of elements) of your list of favourite animals\n",
        "  - add the animals in *additional_animals* to your list\n",
        "  - print the length again\n",
        "  - print the list of animals"
      ]
    },
    {
      "cell_type": "code",
      "metadata": {
        "id": "mivEcifphN7S",
        "colab_type": "code",
        "colab": {}
      },
      "source": [
        "additional_animals = ['snails', 'giraffes', 'ice bears', 'wombats', 'cats', 'dogs']\n"
      ],
      "execution_count": 0,
      "outputs": []
    },
    {
      "cell_type": "markdown",
      "metadata": {
        "id": "kg2pgHoCipEY",
        "colab_type": "text"
      },
      "source": [
        "**Exercise**:\n",
        "- How often do *wombats* appear in your list of favourite animals?\n",
        "- How often does your favourite animal appear?\n",
        "\n",
        "\n"
      ]
    },
    {
      "cell_type": "code",
      "metadata": {
        "id": "65eRtkKShZl6",
        "colab_type": "code",
        "colab": {}
      },
      "source": [
        ""
      ],
      "execution_count": 0,
      "outputs": []
    },
    {
      "cell_type": "markdown",
      "metadata": {
        "id": "m4_TK4xBmJxT",
        "colab_type": "text"
      },
      "source": [
        "**Exercise**:\n",
        "- Sort the list of animals by their name and print it\n",
        "- At which index is your favourite animal now?"
      ]
    },
    {
      "cell_type": "code",
      "metadata": {
        "id": "luHoq9Z1mX2K",
        "colab_type": "code",
        "colab": {}
      },
      "source": [
        ""
      ],
      "execution_count": 0,
      "outputs": []
    },
    {
      "cell_type": "markdown",
      "metadata": {
        "id": "hTxqD1RrmqiP",
        "colab_type": "text"
      },
      "source": [
        "**Bonus**:\n",
        "- Explore the other list methods: *pop*, *reverse*, *insert*, *remove*, *clear*\n",
        "- Approach: Print the list, execute the method, print the list again\n",
        "- Answer the following questions:\n",
        "    - what does the method do?\n",
        "    - does it require an input?\n",
        "    - does it have an output?"
      ]
    },
    {
      "cell_type": "code",
      "metadata": {
        "id": "EW38DRgzmfoI",
        "colab_type": "code",
        "colab": {}
      },
      "source": [
        "print(colors)\n",
        "colors.pop()\n",
        "print(colors)"
      ],
      "execution_count": 0,
      "outputs": []
    },
    {
      "cell_type": "markdown",
      "metadata": {
        "id": "NcIwKvEOfFjG",
        "colab_type": "text"
      },
      "source": [
        "# **Loops**\n",
        "\n",
        "Now we have learned a lot about lists.\n",
        "\n",
        "Next we ook at how to browse through a list to do something with its elements.\n",
        "\n",
        "This is done with **loops**.\n",
        "\n",
        "\n",
        "Loops are logical constructs just like \"if\". Two types of loops:\n",
        "\n",
        "1.   For loops\n",
        "2.   While loops\n",
        "\n",
        "\n"
      ]
    },
    {
      "cell_type": "markdown",
      "metadata": {
        "id": "pcMChihMKrJN",
        "colab_type": "text"
      },
      "source": [
        "# For Loop\n",
        "\n",
        "For loop is the logical construct of saying: \"for every element in a list -> do something\"\n",
        "\n",
        "For example: For every color in the colors, say *I like _*\n"
      ]
    },
    {
      "cell_type": "code",
      "metadata": {
        "id": "qa5MpQ_ADGx_",
        "colab_type": "code",
        "colab": {}
      },
      "source": [
        "for color in colors:\n",
        "  print('I like ', color)"
      ],
      "execution_count": 0,
      "outputs": []
    },
    {
      "cell_type": "markdown",
      "metadata": {
        "id": "6RaZFRZA2l-A",
        "colab_type": "text"
      },
      "source": [
        "A real world example: Over one month we have recorded the daily temperature in Berlin.\n",
        "\n",
        "Question: What is the average temperature of this month?\n",
        "\n",
        "Let's work on this together :)"
      ]
    },
    {
      "cell_type": "code",
      "metadata": {
        "id": "apXH0mSZ0htW",
        "colab_type": "code",
        "colab": {}
      },
      "source": [
        "temperatures = [12, 8, 9, 11, 7, 15, 14, 19, 10, 8, 6, 5, 9, 11, 12, 15, 17, 10, 9, 90, 8, 45, 11, 10, 11, 114, 13, 10, 105, 120]\n",
        "\n"
      ],
      "execution_count": 0,
      "outputs": []
    },
    {
      "cell_type": "markdown",
      "metadata": {
        "id": "SdiCMdbr_3lP",
        "colab_type": "text"
      },
      "source": [
        "**Exercise:** Iterate / Browse through all animals in your animal list. \n",
        "\n",
        "For each animal write 'I like ' + the animal.\n",
        "\n",
        "If the animal is your favourite animal, print for example *Wombats are my favourite animals*. Fill in your favourite animal.\n"
      ]
    },
    {
      "cell_type": "code",
      "metadata": {
        "id": "D9lNiklUBvXH",
        "colab_type": "code",
        "colab": {}
      },
      "source": [
        ""
      ],
      "execution_count": 0,
      "outputs": []
    },
    {
      "cell_type": "markdown",
      "metadata": {
        "id": "8nkRbPumByK6",
        "colab_type": "text"
      },
      "source": [
        "**Exercise:** \n",
        "1.   Print all element of the list which are greater than 10\n",
        "2.   Compute the sum of all elements\n",
        "3.   Mulitply all elements in the list which are smaller or equal to 10\n",
        "\n",
        "Tipp: Use a new code cell for each exercise.\n",
        "\n",
        "\n",
        "\n",
        "**Bonus:** Do all three exercises in only one for loop.\n",
        "\n"
      ]
    },
    {
      "cell_type": "code",
      "metadata": {
        "id": "Kb86CA_kI-r8",
        "colab_type": "code",
        "colab": {}
      },
      "source": [
        "integer_list = [12, 3, 7, 10.5, 2, 15, 14]"
      ],
      "execution_count": 0,
      "outputs": []
    },
    {
      "cell_type": "code",
      "metadata": {
        "id": "FmVDtrgUJ0rF",
        "colab_type": "code",
        "colab": {}
      },
      "source": [
        ""
      ],
      "execution_count": 0,
      "outputs": []
    },
    {
      "cell_type": "code",
      "metadata": {
        "id": "UCavSzsaJ09J",
        "colab_type": "code",
        "colab": {}
      },
      "source": [
        ""
      ],
      "execution_count": 0,
      "outputs": []
    },
    {
      "cell_type": "code",
      "metadata": {
        "id": "pm42K18_J1LY",
        "colab_type": "code",
        "colab": {}
      },
      "source": [
        ""
      ],
      "execution_count": 0,
      "outputs": []
    },
    {
      "cell_type": "markdown",
      "metadata": {
        "id": "czURm6KPc35H",
        "colab_type": "text"
      },
      "source": [
        "## **Break and Continue** - Controlling loops\n",
        "\n",
        "**break**\n",
        "The break statement immediately terminates the loop.\n",
        "The program continues immediately after the loop.\n",
        ".\n",
        "\n",
        "**continue**\n",
        "The continue statement skips the rest of the code inside a loop for the current iteration.\n"
      ]
    },
    {
      "cell_type": "code",
      "metadata": {
        "id": "Lge9bY5YTcZZ",
        "colab_type": "code",
        "colab": {}
      },
      "source": [
        "temperatures = [12, 8, 9, 11, 7, 15, 14, 19, 10, 8, 6, 5, 9, 11, 12, 15, 17, 10, 9, 90, 8, 45, 11, 10, 11, 114, 13, 10, 105, 120]\n",
        "\n",
        "total_temperature = 0\n",
        "for temperature in temperatures:\n",
        "\n",
        "  print('Add temperature: ', temperature)\n",
        "  total_temperature = total_temperature + temperature\n",
        "\n",
        "print('End of the computation!')"
      ],
      "execution_count": 0,
      "outputs": []
    },
    {
      "cell_type": "code",
      "metadata": {
        "id": "nuFIGB1wWBS3",
        "colab_type": "code",
        "colab": {}
      },
      "source": [
        "temperatures = [12, 8, 9, 11, 7, 15, 14, 19, 10, 8, 6, 5, 9, 11, 12, 15, 17, 10, 9, 90, 8, 45, 11, 10, 11, 114, 13, 10, 105, 120]\n",
        "\n",
        "total_temperature = 0\n",
        "for temperature in temperatures:\n",
        "\n",
        "  print('Add temperature: ', temperature)\n",
        "  total_temperature = total_temperature + temperature\n",
        "\n",
        "print('End of the computation!')\n",
        "average_temperature = total_temperature / len(temperatures)\n",
        "print('Average: temperature: ', average_temperature)"
      ],
      "execution_count": 0,
      "outputs": []
    },
    {
      "cell_type": "markdown",
      "metadata": {
        "id": "gMxt8w2XaqQ0",
        "colab_type": "text"
      },
      "source": [
        "**Exercise:**\n",
        "- Loop through the following list.\n",
        "- Print each element\n",
        "- if the value is smaller than 0 print 'Negative Value'\n",
        "- if the value is 0 or 100 stop the for loop with a break statement\n"
      ]
    },
    {
      "cell_type": "code",
      "metadata": {
        "id": "wWIKBGl7cz8F",
        "colab_type": "code",
        "colab": {}
      },
      "source": [
        "integer_list = [4, 6, -1, -3, 10, -7, 8, 8, 0, 10, -2, -2]"
      ],
      "execution_count": 0,
      "outputs": []
    },
    {
      "cell_type": "markdown",
      "metadata": {
        "id": "NH1gJ8cudcuA",
        "colab_type": "text"
      },
      "source": [
        "**Bonus:** Same exercise as above but now only print the list element if it is between 5 and 10.\n",
        "\n",
        "Hint: Use a continue statement"
      ]
    },
    {
      "cell_type": "code",
      "metadata": {
        "id": "S_e36D00fFYZ",
        "colab_type": "code",
        "colab": {}
      },
      "source": [
        ""
      ],
      "execution_count": 0,
      "outputs": []
    },
    {
      "cell_type": "markdown",
      "metadata": {
        "id": "QihF7n8aWo-3",
        "colab_type": "text"
      },
      "source": [
        "# **Quiz Time :)** \n",
        "\n",
        "Go to `www.menti.com` and enter the code **83 78 53**"
      ]
    },
    {
      "cell_type": "markdown",
      "metadata": {
        "id": "JXhEPY1zSQv_",
        "colab_type": "text"
      },
      "source": [
        "# While loop\n",
        "\n",
        "While continues to loop until a condition the given condition is statisfied.\n",
        "\n",
        "**Syntax:**\n",
        "```\n",
        "while [condition]:\n",
        "  [run this code]\n",
        "```\n",
        "\n",
        "**Example 1: Attendance List**\n",
        "\n",
        "\n",
        "Let's take attendance with a while loop, using user input!"
      ]
    },
    {
      "cell_type": "code",
      "metadata": {
        "id": "IzPc0wxsmVWs",
        "colab_type": "code",
        "colab": {}
      },
      "source": [
        "# Previous Approach\n",
        "\n",
        "present_students = []\n",
        "\n",
        "student_name = input(\"Student name?: \")\n",
        "present_students.append(student_name)\n",
        "\n",
        "print(present_students)"
      ],
      "execution_count": 0,
      "outputs": []
    },
    {
      "cell_type": "code",
      "metadata": {
        "id": "kQcx9Jm_mMIB",
        "colab_type": "code",
        "colab": {}
      },
      "source": [
        "# Approach with while loop\n",
        "\n",
        "present_students = []\n",
        "student_name = ''\n",
        "while student_name != 'done':\n",
        "  student_name = input(\"Student name?: \")\n",
        "  if student_name != 'done':\n",
        "    present_students.append(student_name)\n",
        "print(present_students)"
      ],
      "execution_count": 0,
      "outputs": []
    },
    {
      "cell_type": "markdown",
      "metadata": {
        "id": "QJhXvrgFl-1F",
        "colab_type": "text"
      },
      "source": [
        "**Example**\n",
        "\n",
        "Let's print from 1 to 10."
      ]
    },
    {
      "cell_type": "code",
      "metadata": {
        "id": "6Q_FVwA3Sha0",
        "colab_type": "code",
        "colab": {}
      },
      "source": [
        "int_value = 1\n",
        "while int_value <= 10:\n",
        "  print(int_value)"
      ],
      "execution_count": 0,
      "outputs": []
    },
    {
      "cell_type": "markdown",
      "metadata": {
        "id": "aCnX-Jb6aKIm",
        "colab_type": "text"
      },
      "source": [
        "Now the above code ran for more than 10 times.\n",
        "\n",
        "**Why?**\n",
        "\n",
        "Because the value of 'int_value' remains the same and the condition 'int_value <= 10'(less than or equal to 10) is never statified. This is called infinte loops and should be avoided."
      ]
    },
    {
      "cell_type": "code",
      "metadata": {
        "id": "kIf6JbTzbN9K",
        "colab_type": "code",
        "colab": {}
      },
      "source": [
        "int_value = 1\n",
        "while int_value <= 10:\n",
        "  int_value = int_value + 1 # Can also be written as 'int_value += 1'\n",
        "  print(int_value)"
      ],
      "execution_count": 0,
      "outputs": []
    },
    {
      "cell_type": "markdown",
      "metadata": {
        "id": "eITuLT4_bnVh",
        "colab_type": "text"
      },
      "source": [
        "**Exercise ** Fix the code from previous example. The code did ran for 10 times as expected but the results were not as expected. Lets fix it."
      ]
    },
    {
      "cell_type": "code",
      "metadata": {
        "id": "arwe0c38b7iK",
        "colab_type": "code",
        "colab": {}
      },
      "source": [
        "int_value = 1\n",
        "while int_value <= 10:\n",
        "  int_value = int_value + 1\n",
        "  print(int_value)"
      ],
      "execution_count": 0,
      "outputs": []
    }
  ]
}